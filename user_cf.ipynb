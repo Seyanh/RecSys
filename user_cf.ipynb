{
 "cells": [
  {
   "cell_type": "markdown",
   "metadata": {},
   "source": [
    "# 1. Load the Data"
   ]
  },
  {
   "cell_type": "code",
   "execution_count": 12,
   "metadata": {},
   "outputs": [
    {
     "data": {
      "text/html": [
       "<div>\n",
       "<style scoped>\n",
       "    .dataframe tbody tr th:only-of-type {\n",
       "        vertical-align: middle;\n",
       "    }\n",
       "\n",
       "    .dataframe tbody tr th {\n",
       "        vertical-align: top;\n",
       "    }\n",
       "\n",
       "    .dataframe thead th {\n",
       "        text-align: right;\n",
       "    }\n",
       "</style>\n",
       "<table border=\"1\" class=\"dataframe\">\n",
       "  <thead>\n",
       "    <tr style=\"text-align: right;\">\n",
       "      <th></th>\n",
       "      <th>user_id</th>\n",
       "      <th>click_article_id</th>\n",
       "      <th>click_timestamp</th>\n",
       "      <th>click_environment</th>\n",
       "      <th>click_deviceGroup</th>\n",
       "      <th>click_os</th>\n",
       "      <th>click_country</th>\n",
       "      <th>click_region</th>\n",
       "      <th>click_referrer_type</th>\n",
       "    </tr>\n",
       "  </thead>\n",
       "  <tbody>\n",
       "    <tr>\n",
       "      <th>0</th>\n",
       "      <td>0</td>\n",
       "      <td>157507</td>\n",
       "      <td>1508211702520</td>\n",
       "      <td>4</td>\n",
       "      <td>1</td>\n",
       "      <td>17</td>\n",
       "      <td>1</td>\n",
       "      <td>25</td>\n",
       "      <td>2</td>\n",
       "    </tr>\n",
       "    <tr>\n",
       "      <th>1</th>\n",
       "      <td>0</td>\n",
       "      <td>30760</td>\n",
       "      <td>1508211672520</td>\n",
       "      <td>4</td>\n",
       "      <td>1</td>\n",
       "      <td>17</td>\n",
       "      <td>1</td>\n",
       "      <td>25</td>\n",
       "      <td>2</td>\n",
       "    </tr>\n",
       "    <tr>\n",
       "      <th>2</th>\n",
       "      <td>1</td>\n",
       "      <td>63746</td>\n",
       "      <td>1508211346889</td>\n",
       "      <td>4</td>\n",
       "      <td>1</td>\n",
       "      <td>17</td>\n",
       "      <td>1</td>\n",
       "      <td>25</td>\n",
       "      <td>6</td>\n",
       "    </tr>\n",
       "    <tr>\n",
       "      <th>3</th>\n",
       "      <td>1</td>\n",
       "      <td>289197</td>\n",
       "      <td>1508211316889</td>\n",
       "      <td>4</td>\n",
       "      <td>1</td>\n",
       "      <td>17</td>\n",
       "      <td>1</td>\n",
       "      <td>25</td>\n",
       "      <td>6</td>\n",
       "    </tr>\n",
       "    <tr>\n",
       "      <th>4</th>\n",
       "      <td>2</td>\n",
       "      <td>168401</td>\n",
       "      <td>1508211468695</td>\n",
       "      <td>4</td>\n",
       "      <td>3</td>\n",
       "      <td>20</td>\n",
       "      <td>1</td>\n",
       "      <td>25</td>\n",
       "      <td>2</td>\n",
       "    </tr>\n",
       "  </tbody>\n",
       "</table>\n",
       "</div>"
      ],
      "text/plain": [
       "   user_id  click_article_id  click_timestamp  click_environment  \\\n",
       "0        0            157507    1508211702520                  4   \n",
       "1        0             30760    1508211672520                  4   \n",
       "2        1             63746    1508211346889                  4   \n",
       "3        1            289197    1508211316889                  4   \n",
       "4        2            168401    1508211468695                  4   \n",
       "\n",
       "   click_deviceGroup  click_os  click_country  click_region  \\\n",
       "0                  1        17              1            25   \n",
       "1                  1        17              1            25   \n",
       "2                  1        17              1            25   \n",
       "3                  1        17              1            25   \n",
       "4                  3        20              1            25   \n",
       "\n",
       "   click_referrer_type  \n",
       "0                    2  \n",
       "1                    2  \n",
       "2                    6  \n",
       "3                    6  \n",
       "4                    2  "
      ]
     },
     "execution_count": 12,
     "metadata": {},
     "output_type": "execute_result"
    }
   ],
   "source": [
    "import pandas as pd\n",
    "\n",
    "# train\n",
    "train_click = pd.read_csv(\"data/train_click_log.csv\")\n",
    "articles = pd.read_csv(\"data/articles.csv\")\n",
    "articles = articles.rename(columns={'article_id': 'click_article_id'})  #重命名，方便后续match\n",
    "articles_emb = pd.read_csv(\"data/articles_emb.csv\")\n",
    "\n",
    "# test\n",
    "test_click = pd.read_csv(\"data/testA_click_log.csv\")\n",
    "\n",
    "train_click = train_click.append(test_click)\n",
    "train_click = train_click.drop_duplicates((['user_id', 'click_article_id', 'click_timestamp']))\n",
    "\n",
    "train_click = train_click.sort_values('user_id')\n",
    "train_click.reset_index(drop=True, inplace=True)\n",
    "train_click.head()"
   ]
  },
  {
   "cell_type": "code",
   "execution_count": 9,
   "metadata": {},
   "outputs": [],
   "source": [
    "import time, math, os\n",
    "from tqdm import tqdm\n",
    "import gc\n",
    "import pickle\n",
    "import random\n",
    "from datetime import datetime\n",
    "from operator import itemgetter\n",
    "import numpy as np\n",
    "import pandas as pd\n",
    "import warnings\n",
    "from collections import defaultdict\n",
    "import collections\n",
    "warnings.filterwarnings('ignore')"
   ]
  },
  {
   "cell_type": "markdown",
   "metadata": {},
   "source": [
    "## 1.1 User -> item and time"
   ]
  },
  {
   "cell_type": "code",
   "execution_count": 10,
   "metadata": {},
   "outputs": [],
   "source": [
    "def make_item_time_pair(df):\n",
    "    return list(zip(df['click_article_id'], df['click_timestamp']))\n",
    "\n",
    "train_click = train_click.sort_values('click_timestamp')\n",
    "\n",
    "user_item_time_df = train_click.groupby('user_id')['click_article_id', 'click_timestamp']\\\n",
    "                    .apply(lambda x: make_item_time_pair(x))\\\n",
    "                    .reset_index().rename(columns={0: 'item_time_list'})\n",
    "user_item_time_dict = dict(zip(user_item_time_df['user_id'], user_item_time_df['item_time_list']))"
   ]
  },
  {
   "cell_type": "code",
   "execution_count": 11,
   "metadata": {},
   "outputs": [
    {
     "data": {
      "text/plain": [
       "[(30760, 1508211672520), (157507, 1508211702520)]"
      ]
     },
     "execution_count": 11,
     "metadata": {},
     "output_type": "execute_result"
    }
   ],
   "source": [
    "user_item_time_dict[0]"
   ]
  },
  {
   "cell_type": "markdown",
   "metadata": {},
   "source": [
    "## 1.2 Item -> user and time"
   ]
  },
  {
   "cell_type": "code",
   "execution_count": 38,
   "metadata": {},
   "outputs": [],
   "source": [
    "# 根据时间获取商品被点击的用户序列  {item1: [(user1, time1), (user2, time2)...]...}\n",
    "\n",
    "def make_user_time_pair(df):\n",
    "    return list(zip(df['user_id'], df['click_timestamp']))\n",
    "    \n",
    "train_click = train_click.sort_values('click_timestamp')\n",
    "item_user_time_df = train_click.groupby('click_article_id')['user_id', 'click_timestamp'].\\\n",
    "                    apply(lambda x: make_user_time_pair(x))\\\n",
    "                    .reset_index().rename(columns={0: 'user_time_list'})\n",
    "    \n",
    "item_user_time_dict = dict(zip(item_user_time_df['click_article_id'], item_user_time_df['user_time_list']))"
   ]
  },
  {
   "cell_type": "code",
   "execution_count": 42,
   "metadata": {},
   "outputs": [
    {
     "data": {
      "text/plain": [
       "[(76266, 1507572378399)]"
      ]
     },
     "execution_count": 42,
     "metadata": {},
     "output_type": "execute_result"
    }
   ],
   "source": [
    "item_user_time_dict[3]"
   ]
  },
  {
   "cell_type": "markdown",
   "metadata": {},
   "source": [
    "# 2. User Active Degree"
   ]
  },
  {
   "cell_type": "code",
   "execution_count": 32,
   "metadata": {},
   "outputs": [
    {
     "data": {
      "text/html": [
       "<div>\n",
       "<style scoped>\n",
       "    .dataframe tbody tr th:only-of-type {\n",
       "        vertical-align: middle;\n",
       "    }\n",
       "\n",
       "    .dataframe tbody tr th {\n",
       "        vertical-align: top;\n",
       "    }\n",
       "\n",
       "    .dataframe thead th {\n",
       "        text-align: right;\n",
       "    }\n",
       "</style>\n",
       "<table border=\"1\" class=\"dataframe\">\n",
       "  <thead>\n",
       "    <tr style=\"text-align: right;\">\n",
       "      <th></th>\n",
       "      <th>user_id</th>\n",
       "      <th>click_count</th>\n",
       "    </tr>\n",
       "  </thead>\n",
       "  <tbody>\n",
       "    <tr>\n",
       "      <th>0</th>\n",
       "      <td>0</td>\n",
       "      <td>2</td>\n",
       "    </tr>\n",
       "    <tr>\n",
       "      <th>1</th>\n",
       "      <td>1</td>\n",
       "      <td>2</td>\n",
       "    </tr>\n",
       "    <tr>\n",
       "      <th>2</th>\n",
       "      <td>2</td>\n",
       "      <td>2</td>\n",
       "    </tr>\n",
       "    <tr>\n",
       "      <th>3</th>\n",
       "      <td>3</td>\n",
       "      <td>2</td>\n",
       "    </tr>\n",
       "    <tr>\n",
       "      <th>4</th>\n",
       "      <td>4</td>\n",
       "      <td>2</td>\n",
       "    </tr>\n",
       "  </tbody>\n",
       "</table>\n",
       "</div>"
      ],
      "text/plain": [
       "   user_id  click_count\n",
       "0        0            2\n",
       "1        1            2\n",
       "2        2            2\n",
       "3        3            2\n",
       "4        4            2"
      ]
     },
     "execution_count": 32,
     "metadata": {},
     "output_type": "execute_result"
    }
   ],
   "source": [
    "train_click_ = train_click.groupby('user_id')['click_article_id'].\\\n",
    "                                    count().reset_index().\\\n",
    "                                    rename(columns={\"click_article_id\":\"click_count\"})\n",
    "train_click_.head()"
   ]
  },
  {
   "cell_type": "code",
   "execution_count": 35,
   "metadata": {},
   "outputs": [],
   "source": [
    "# 获取用户点击的item数目并进行归一化,表示其活跃程度\n",
    "\n",
    "from sklearn.preprocessing import MinMaxScaler\n",
    "\n",
    "mm = MinMaxScaler()\n",
    "train_click_['click_count'] = mm.fit_transform(train_click_[['click_count']])\n",
    "user_activate_degree_dict = dict(zip(train_click_['user_id'], train_click_['click_count']))"
   ]
  },
  {
   "cell_type": "code",
   "execution_count": 46,
   "metadata": {},
   "outputs": [
    {
     "data": {
      "text/plain": [
       "0.0010672358591248667"
      ]
     },
     "execution_count": 46,
     "metadata": {},
     "output_type": "execute_result"
    }
   ],
   "source": [
    "user_activate_degree_dict[0]"
   ]
  },
  {
   "cell_type": "markdown",
   "metadata": {},
   "source": [
    "# 3. User-to-User Sim"
   ]
  },
  {
   "cell_type": "code",
   "execution_count": 48,
   "metadata": {},
   "outputs": [
    {
     "name": "stderr",
     "output_type": "stream",
     "text": [
      "100%|██████████| 35380/35380 [5:33:15<00:00,  1.77it/s]    \n"
     ]
    }
   ],
   "source": [
    "u2u_sim = {}\n",
    "user_cnt = defaultdict(int)\n",
    "\n",
    "for item, user_time_list in tqdm(item_user_time_dict.items()):  # itme:itme id\n",
    "    for u, click_time in user_time_list:  # u: user id\n",
    "        user_cnt[u] += 1\n",
    "        u2u_sim.setdefault(u, {})\n",
    "        for v, click_time in user_time_list:\n",
    "            u2u_sim[u].setdefault(v, 0)\n",
    "            if u == v:\n",
    "                continue\n",
    "            # 用户平均活跃度作为活跃度的权重，这里的式子也可以改善\n",
    "            activate_weight = 100 * 0.5 * (user_activate_degree_dict[u] + user_activate_degree_dict[v])\n",
    "            u2u_sim[u][v] += activate_weight / math.log(len(user_time_list) + 1)"
   ]
  },
  {
   "cell_type": "code",
   "execution_count": 49,
   "metadata": {},
   "outputs": [],
   "source": [
    "u2u_sim_ = u2u_sim.copy()\n",
    "for u, related_users in u2u_sim.items():\n",
    "    for v, wij in related_users.items():\n",
    "        u2u_sim_[u][v] = wij / math.sqrt(user_cnt[u] * user_cnt[v])\n",
    "        \n",
    "pickle.dump(u2u_sim_, open('usercf_u2u_sim.pkl', 'wb'))"
   ]
  },
  {
   "cell_type": "code",
   "execution_count": 50,
   "metadata": {},
   "outputs": [],
   "source": [
    "u2u_sim = u2u_sim_"
   ]
  },
  {
   "cell_type": "code",
   "execution_count": null,
   "metadata": {},
   "outputs": [],
   "source": []
  },
  {
   "cell_type": "markdown",
   "metadata": {},
   "source": [
    "# 4. Recommend"
   ]
  },
  {
   "cell_type": "code",
   "execution_count": 51,
   "metadata": {},
   "outputs": [
    {
     "data": {
      "text/plain": [
       "Int64Index([272143, 234698, 123909, 336221, 96210, 336223, 183176, 168623,\n",
       "            162655, 331116],\n",
       "           dtype='int64')"
      ]
     },
     "execution_count": 51,
     "metadata": {},
     "output_type": "execute_result"
    }
   ],
   "source": [
    "# 获取近期点击最多的文章\n",
    "k = 10\n",
    "topk_click = train_click['click_article_id'].value_counts().index[:k]\n",
    "topk_click"
   ]
  },
  {
   "cell_type": "code",
   "execution_count": null,
   "metadata": {},
   "outputs": [],
   "source": []
  },
  {
   "cell_type": "code",
   "execution_count": 59,
   "metadata": {},
   "outputs": [],
   "source": [
    "# 基于用户的召回 u2u2i\n",
    "def user_based_recommend(user_id, \n",
    "                         user_item_time_dict=user_item_time_dict,\n",
    "                         u2u_sim=u2u_sim,\n",
    "                         sim_user_topk=20,\n",
    "                         recall_item_num=10, \n",
    "                         item_topk_click=topk_click):\n",
    "    \n",
    "    # 历史交互\n",
    "    # user_item_time_list = user_item_time_dict[user_id]    #  [(item1, time1), (item2, time2)..]\n",
    "    # user_hist_items = set([i for i, t in user_item_time_list])   # 存在一个用户与某篇文章的多次交互， 这里得去重\n",
    "    \n",
    "    \n",
    "    current_user_items_time_list = user_item_time_dict[user_id] \n",
    "    current_user_items_set = set(article_id for article_id, click_time in current_user_items_time_list)\n",
    "    \n",
    "    items_rank = {}\n",
    "    \n",
    "    # 相似的user: sum_u\n",
    "    for sim_u, wuv in sorted(u2u_sim[user_id].items(), key=lambda x: x[1], reverse=True)[:sim_user_topk]:  # 遍历相似的user\n",
    "        for i, click_time in user_item_time_dict[sim_u]:  # 遍历相似user的item\n",
    "            if i in current_user_items_set:\n",
    "                continue\n",
    "                \n",
    "            items_rank.setdefault(i, 0)\n",
    "            items_rank[i] += wuv\n",
    "        \n",
    "    # 热度补全\n",
    "    if len(items_rank) < recall_item_num:\n",
    "        for i, item in enumerate(item_topk_click):\n",
    "            if item in items_rank.items(): # 填充的item应该不在原来的列表中\n",
    "                continue\n",
    "            items_rank[item] = - i - 100 # 随便给个复数就行\n",
    "            if len(items_rank) == recall_item_num:\n",
    "                break\n",
    "        \n",
    "    items_rank = sorted(items_rank.items(), key=lambda x: x[1], reverse=True)[:recall_item_num]    \n",
    "    \n",
    "    return items_rank"
   ]
  },
  {
   "cell_type": "code",
   "execution_count": 62,
   "metadata": {},
   "outputs": [
    {
     "name": "stderr",
     "output_type": "stream",
     "text": [
      "100%|██████████| 50000/50000 [12:50<00:00, 64.93it/s] \n"
     ]
    }
   ],
   "source": [
    "user_recall_items_dict = {}\n",
    "\n",
    "for user in tqdm(test_click['user_id'].unique()):\n",
    "    user_recall_items_dict[user] = user_based_recommend(user)"
   ]
  },
  {
   "cell_type": "code",
   "execution_count": null,
   "metadata": {},
   "outputs": [],
   "source": []
  },
  {
   "cell_type": "markdown",
   "metadata": {},
   "source": [
    "# 5. Submit"
   ]
  },
  {
   "cell_type": "code",
   "execution_count": 67,
   "metadata": {},
   "outputs": [
    {
     "data": {
      "text/plain": [
       "[(123909, 3.760588753744524),\n",
       " (336223, 3.469618535224845),\n",
       " (64409, 3.3247088678180545),\n",
       " (59057, 2.890969016191794),\n",
       " (199197, 2.6993398523889263),\n",
       " (336220, 2.568960481892443),\n",
       " (199198, 2.418379281819452),\n",
       " (234698, 2.228184527054652),\n",
       " (272143, 2.140644904825349),\n",
       " (236444, 2.1221103471709903)]"
      ]
     },
     "execution_count": 67,
     "metadata": {},
     "output_type": "execute_result"
    }
   ],
   "source": [
    "user_recall_items_dict[249999]"
   ]
  },
  {
   "cell_type": "code",
   "execution_count": null,
   "metadata": {},
   "outputs": [],
   "source": []
  },
  {
   "cell_type": "code",
   "execution_count": 64,
   "metadata": {},
   "outputs": [
    {
     "name": "stderr",
     "output_type": "stream",
     "text": [
      "100%|██████████| 50000/50000 [00:01<00:00, 31140.48it/s]\n"
     ]
    }
   ],
   "source": [
    "# 将字典的形式转换成df\n",
    "user_item_score_list = []\n",
    "\n",
    "for user, items in tqdm(user_recall_items_dict.items()):\n",
    "    for item, score in items:\n",
    "        user_item_score_list.append([user, item, score])\n",
    "\n",
    "recall_df = pd.DataFrame(user_item_score_list, columns=['user_id', 'click_article_id', 'pred_score'])"
   ]
  },
  {
   "cell_type": "code",
   "execution_count": 77,
   "metadata": {},
   "outputs": [
    {
     "data": {
      "text/html": [
       "<div>\n",
       "<style scoped>\n",
       "    .dataframe tbody tr th:only-of-type {\n",
       "        vertical-align: middle;\n",
       "    }\n",
       "\n",
       "    .dataframe tbody tr th {\n",
       "        vertical-align: top;\n",
       "    }\n",
       "\n",
       "    .dataframe thead th {\n",
       "        text-align: right;\n",
       "    }\n",
       "</style>\n",
       "<table border=\"1\" class=\"dataframe\">\n",
       "  <thead>\n",
       "    <tr style=\"text-align: right;\">\n",
       "      <th></th>\n",
       "      <th>user_id</th>\n",
       "      <th>click_article_id</th>\n",
       "      <th>pred_score</th>\n",
       "    </tr>\n",
       "  </thead>\n",
       "  <tbody>\n",
       "    <tr>\n",
       "      <th>499990</th>\n",
       "      <td>200000</td>\n",
       "      <td>336221</td>\n",
       "      <td>0.874071</td>\n",
       "    </tr>\n",
       "    <tr>\n",
       "      <th>499991</th>\n",
       "      <td>200000</td>\n",
       "      <td>272143</td>\n",
       "      <td>0.842884</td>\n",
       "    </tr>\n",
       "    <tr>\n",
       "      <th>499992</th>\n",
       "      <td>200000</td>\n",
       "      <td>235616</td>\n",
       "      <td>0.817024</td>\n",
       "    </tr>\n",
       "    <tr>\n",
       "      <th>499993</th>\n",
       "      <td>200000</td>\n",
       "      <td>59681</td>\n",
       "      <td>0.695078</td>\n",
       "    </tr>\n",
       "    <tr>\n",
       "      <th>499994</th>\n",
       "      <td>200000</td>\n",
       "      <td>199197</td>\n",
       "      <td>0.675983</td>\n",
       "    </tr>\n",
       "    <tr>\n",
       "      <th>499995</th>\n",
       "      <td>200000</td>\n",
       "      <td>286161</td>\n",
       "      <td>0.672047</td>\n",
       "    </tr>\n",
       "    <tr>\n",
       "      <th>499996</th>\n",
       "      <td>200000</td>\n",
       "      <td>206168</td>\n",
       "      <td>0.648882</td>\n",
       "    </tr>\n",
       "    <tr>\n",
       "      <th>499997</th>\n",
       "      <td>200000</td>\n",
       "      <td>284547</td>\n",
       "      <td>0.613595</td>\n",
       "    </tr>\n",
       "    <tr>\n",
       "      <th>499998</th>\n",
       "      <td>200000</td>\n",
       "      <td>162655</td>\n",
       "      <td>0.587366</td>\n",
       "    </tr>\n",
       "    <tr>\n",
       "      <th>499999</th>\n",
       "      <td>200000</td>\n",
       "      <td>234269</td>\n",
       "      <td>0.577121</td>\n",
       "    </tr>\n",
       "  </tbody>\n",
       "</table>\n",
       "</div>"
      ],
      "text/plain": [
       "        user_id  click_article_id  pred_score\n",
       "499990   200000            336221    0.874071\n",
       "499991   200000            272143    0.842884\n",
       "499992   200000            235616    0.817024\n",
       "499993   200000             59681    0.695078\n",
       "499994   200000            199197    0.675983\n",
       "499995   200000            286161    0.672047\n",
       "499996   200000            206168    0.648882\n",
       "499997   200000            284547    0.613595\n",
       "499998   200000            162655    0.587366\n",
       "499999   200000            234269    0.577121"
      ]
     },
     "execution_count": 77,
     "metadata": {},
     "output_type": "execute_result"
    }
   ],
   "source": [
    "recall_df[recall_df[\"user_id\"]==200000]"
   ]
  },
  {
   "cell_type": "code",
   "execution_count": 68,
   "metadata": {},
   "outputs": [],
   "source": [
    "# 生成提交文件\n",
    "save_path = \"./\"\n",
    "\n",
    "def submit(recall_df, topk=5, model_name=None):\n",
    "    recall_df = recall_df.sort_values(by=['user_id', 'pred_score'])\n",
    "    recall_df['rank'] = recall_df.groupby(['user_id'])['pred_score'].rank(ascending=False, method='first')\n",
    "    \n",
    "    # 判断是不是每个用户都有5篇文章及以上\n",
    "    tmp = recall_df.groupby('user_id').apply(lambda x: x['rank'].max())\n",
    "    assert tmp.min() >= topk\n",
    "    \n",
    "    del recall_df['pred_score']\n",
    "    submit = recall_df[recall_df['rank'] <= topk].set_index(['user_id', 'rank']).unstack(-1).reset_index()\n",
    "    \n",
    "    submit.columns = [int(col) if isinstance(col, int) else col for col in submit.columns.droplevel(0)]\n",
    "    # 按照提交格式定义列名\n",
    "    submit = submit.rename(columns={'': 'user_id', 1: 'article_1', 2: 'article_2', \n",
    "                                                  3: 'article_3', 4: 'article_4', 5: 'article_5'})\n",
    "    \n",
    "    save_name = save_path + model_name + '_' + datetime.today().strftime('%m-%d') + '.csv'\n",
    "    submit.to_csv(save_name, index=False, header=True)"
   ]
  },
  {
   "cell_type": "code",
   "execution_count": null,
   "metadata": {},
   "outputs": [],
   "source": []
  },
  {
   "cell_type": "code",
   "execution_count": 70,
   "metadata": {},
   "outputs": [],
   "source": [
    "# 获取测试集\n",
    "test_click = pd.read_csv(\"data/testA_click_log.csv\")\n",
    "test_click = test_click['user_id'].unique()\n",
    "\n",
    "# 从所有的召回数据中将测试集中的用户选出来\n",
    "test_recall = recall_df[recall_df['user_id'].isin(test_click)]\n",
    "\n",
    "# 生成提交文件\n",
    "submit(test_recall, topk=5, model_name='usercf_baseline')"
   ]
  },
  {
   "cell_type": "code",
   "execution_count": null,
   "metadata": {},
   "outputs": [],
   "source": []
  },
  {
   "cell_type": "code",
   "execution_count": null,
   "metadata": {},
   "outputs": [],
   "source": []
  }
 ],
 "metadata": {
  "kernelspec": {
   "display_name": "Python-pytorch",
   "language": "python",
   "name": "qiangsunyuan-pytorch"
  },
  "language_info": {
   "codemirror_mode": {
    "name": "ipython",
    "version": 3
   },
   "file_extension": ".py",
   "mimetype": "text/x-python",
   "name": "python",
   "nbconvert_exporter": "python",
   "pygments_lexer": "ipython3",
   "version": "3.7.10"
  }
 },
 "nbformat": 4,
 "nbformat_minor": 4
}
